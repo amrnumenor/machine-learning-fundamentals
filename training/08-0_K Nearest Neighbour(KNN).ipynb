{
 "cells": [
  {
   "cell_type": "code",
   "execution_count": 62,
   "source": [
    "# Copyright (c) 2019 Skymind AI Bhd.\r\n",
    "# Copyright (c) 2020 CertifAI Sdn. Bhd.\r\n",
    "#\r\n",
    "# This program and the accompanying materials are made available under the\r\n",
    "# terms of the Apache License, Version 2.0 which is available at\r\n",
    "# https://www.apache.org/licenses/LICENSE-2.0.\r\n",
    "# Unless required by applicable law or agreed to in writing, software\r\n",
    "# distributed under the License is distributed on an \"AS IS\" BASIS, WITHOUT\r\n",
    "# WARRANTIES OR CONDITIONS OF ANY KIND, either express or implied. See the\r\n",
    "# License for the specific language governing permissions and limitations\r\n",
    "# under the License.\r\n",
    "#\r\n",
    "# SPDX-License-Identifier: Apache-2.0"
   ],
   "outputs": [],
   "metadata": {
    "deletable": false,
    "editable": false
   }
  },
  {
   "cell_type": "markdown",
   "source": [
    "# Perform Classification by using K Nearest Neighbour (KNN)"
   ],
   "metadata": {}
  },
  {
   "cell_type": "code",
   "execution_count": 63,
   "source": [
    "import numpy as np\r\n",
    "from sklearn import datasets\r\n",
    "from sklearn import model_selection\r\n",
    "from sklearn import metrics\r\n",
    "from sklearn import preprocessing\r\n",
    "from imblearn.over_sampling import SMOTE\r\n",
    "import pandas as pd\r\n",
    "import requests as req\r\n",
    "\r\n",
    "\r\n",
    "import matplotlib.pyplot as plt\r\n",
    "%matplotlib inline"
   ],
   "outputs": [],
   "metadata": {}
  },
  {
   "cell_type": "markdown",
   "source": [
    "## Classifying Iris Dataset With KNN\n",
    "### Load Data\n",
    "Here we will load the IRIS dataset from **scikit-learn**. We will be utilizing `iris.data` and `iris.target` as usual for our features and values."
   ],
   "metadata": {}
  },
  {
   "cell_type": "code",
   "execution_count": 64,
   "source": [
    "iris = datasets.load_iris()"
   ],
   "outputs": [],
   "metadata": {}
  },
  {
   "cell_type": "markdown",
   "source": [
    "As usual `dir(iris)` shows the attributes of the iris datasets.<br> \n",
    "- `iris.data.shape` shows the shape of the data.<br>\n",
    "- `iris.target_names` shows the classes that we want to classify.<br>\n",
    "- `iris.feature_names` shows the name of features that we are training."
   ],
   "metadata": {}
  },
  {
   "cell_type": "code",
   "execution_count": 65,
   "source": [
    "dir(iris)"
   ],
   "outputs": [
    {
     "output_type": "execute_result",
     "data": {
      "text/plain": [
       "['DESCR',\n",
       " 'data',\n",
       " 'feature_names',\n",
       " 'filename',\n",
       " 'frame',\n",
       " 'target',\n",
       " 'target_names']"
      ]
     },
     "metadata": {},
     "execution_count": 65
    }
   ],
   "metadata": {}
  },
  {
   "cell_type": "code",
   "execution_count": 66,
   "source": [
    "iris.data.shape"
   ],
   "outputs": [
    {
     "output_type": "execute_result",
     "data": {
      "text/plain": [
       "(150, 4)"
      ]
     },
     "metadata": {},
     "execution_count": 66
    }
   ],
   "metadata": {}
  },
  {
   "cell_type": "code",
   "execution_count": 67,
   "source": [
    "iris.target_names"
   ],
   "outputs": [
    {
     "output_type": "execute_result",
     "data": {
      "text/plain": [
       "array(['setosa', 'versicolor', 'virginica'], dtype='<U10')"
      ]
     },
     "metadata": {},
     "execution_count": 67
    }
   ],
   "metadata": {}
  },
  {
   "cell_type": "code",
   "execution_count": 68,
   "source": [
    "iris.feature_names"
   ],
   "outputs": [
    {
     "output_type": "execute_result",
     "data": {
      "text/plain": [
       "['sepal length (cm)',\n",
       " 'sepal width (cm)',\n",
       " 'petal length (cm)',\n",
       " 'petal width (cm)']"
      ]
     },
     "metadata": {},
     "execution_count": 68
    }
   ],
   "metadata": {}
  },
  {
   "cell_type": "code",
   "execution_count": 69,
   "source": [
    "data = iris.data.astype(np.float32)\r\n",
    "target = iris.target.astype(np.float32)"
   ],
   "outputs": [],
   "metadata": {}
  },
  {
   "cell_type": "code",
   "execution_count": 70,
   "source": [
    "X = pd.DataFrame(data = data, columns= iris.feature_names)\r\n",
    "y = pd.DataFrame(data= target, columns= [\"Y\"])"
   ],
   "outputs": [],
   "metadata": {}
  },
  {
   "cell_type": "markdown",
   "source": [
    "Split data into train and test sets."
   ],
   "metadata": {}
  },
  {
   "cell_type": "code",
   "execution_count": 71,
   "source": [
    "df = pd.concat([X, y], axis= 1)"
   ],
   "outputs": [],
   "metadata": {}
  },
  {
   "cell_type": "code",
   "execution_count": 72,
   "source": [
    "# X = df.iloc[:, :-1]\r\n",
    "# y = df.iloc[:, -1]"
   ],
   "outputs": [],
   "metadata": {}
  },
  {
   "cell_type": "code",
   "execution_count": 73,
   "source": [
    "X_train, X_test, y_train, y_test = model_selection.train_test_split(\r\n",
    "    data, target, test_size=0.3, random_state=123\r\n",
    ")"
   ],
   "outputs": [],
   "metadata": {}
  },
  {
   "cell_type": "code",
   "execution_count": 74,
   "source": [
    "X_train.shape, y_train.shape"
   ],
   "outputs": [
    {
     "output_type": "execute_result",
     "data": {
      "text/plain": [
       "((105, 4), (105,))"
      ]
     },
     "metadata": {},
     "execution_count": 74
    }
   ],
   "metadata": {}
  },
  {
   "cell_type": "code",
   "execution_count": 75,
   "source": [
    "X_test.shape, y_test.shape"
   ],
   "outputs": [
    {
     "output_type": "execute_result",
     "data": {
      "text/plain": [
       "((45, 4), (45,))"
      ]
     },
     "metadata": {},
     "execution_count": 75
    }
   ],
   "metadata": {}
  },
  {
   "cell_type": "markdown",
   "source": [
    "### Model Training\n",
    "We will use K Nearest Neighbours from scikit learn."
   ],
   "metadata": {}
  },
  {
   "cell_type": "code",
   "execution_count": 76,
   "source": [
    "from sklearn.neighbors import KNeighborsClassifier"
   ],
   "outputs": [],
   "metadata": {}
  },
  {
   "cell_type": "markdown",
   "source": [
    "Initialize the model.<br>\n",
    "Specify the number of neighbors to 3."
   ],
   "metadata": {}
  },
  {
   "cell_type": "code",
   "execution_count": 77,
   "source": [
    "# TODO: Assign number of neighbors, k=3\r\n",
    "\r\n",
    "model = KNeighborsClassifier(n_neighbors = 3)"
   ],
   "outputs": [],
   "metadata": {}
  },
  {
   "cell_type": "markdown",
   "source": [
    "Train the model by using train dataset."
   ],
   "metadata": {}
  },
  {
   "cell_type": "code",
   "execution_count": 78,
   "source": [
    "# TODO: Enter the code to call fit the training data into the model\r\n",
    "model.fit(X_train, y_train)"
   ],
   "outputs": [
    {
     "output_type": "execute_result",
     "data": {
      "text/plain": [
       "KNeighborsClassifier(n_neighbors=3)"
      ]
     },
     "metadata": {},
     "execution_count": 78
    }
   ],
   "metadata": {
    "scrolled": true
   }
  },
  {
   "cell_type": "markdown",
   "source": [
    "### Evaluation"
   ],
   "metadata": {}
  },
  {
   "cell_type": "code",
   "execution_count": 79,
   "source": [
    "predictions = model.predict(X_test)"
   ],
   "outputs": [],
   "metadata": {}
  },
  {
   "cell_type": "markdown",
   "source": [
    "The method `metrics.confusion_matrix` will visualize the performance of the model through a confusion matrix. "
   ],
   "metadata": {}
  },
  {
   "cell_type": "code",
   "execution_count": 80,
   "source": [
    "print(metrics.confusion_matrix(y_test,predictions))"
   ],
   "outputs": [
    {
     "output_type": "stream",
     "name": "stdout",
     "text": [
      "[[18  0  0]\n",
      " [ 0  9  1]\n",
      " [ 0  1 16]]\n"
     ]
    }
   ],
   "metadata": {}
  },
  {
   "cell_type": "code",
   "execution_count": 81,
   "source": [
    "metrics.accuracy_score(y_test, predictions)"
   ],
   "outputs": [
    {
     "output_type": "execute_result",
     "data": {
      "text/plain": [
       "0.9555555555555556"
      ]
     },
     "metadata": {},
     "execution_count": 81
    }
   ],
   "metadata": {}
  },
  {
   "cell_type": "markdown",
   "source": [
    "## Classifying Glass Dataset from UCI Machine Learning Repository"
   ],
   "metadata": {}
  },
  {
   "cell_type": "markdown",
   "source": [
    "### Load Data\n",
    "\n",
    "Here, we load the glass data from UCI ML Repository into a Dataframe using **pandas**.<br> `glass` will be storing the dataset, `description` will store the text with the description of the data."
   ],
   "metadata": {}
  },
  {
   "cell_type": "code",
   "execution_count": 82,
   "source": [
    "glass = pd.read_csv(\r\n",
    "    \"https://archive.ics.uci.edu/ml/machine-learning-databases/glass/glass.data\", \r\n",
    "    names=['ID','Refractive Index','Na','Mg','Al','Si','K','Ca','Ba','Fe','Class']\r\n",
    ")\r\n",
    "description = req.get(\"https://archive.ics.uci.edu/ml/machine-learning-databases/glass/glass.names\").text"
   ],
   "outputs": [],
   "metadata": {}
  },
  {
   "cell_type": "code",
   "execution_count": 83,
   "source": [
    "print(description)"
   ],
   "outputs": [
    {
     "output_type": "stream",
     "name": "stdout",
     "text": [
      "1. Title: Glass Identification Database\n",
      "\n",
      "2. Sources:\n",
      "    (a) Creator: B. German\n",
      "        -- Central Research Establishment\n",
      "           Home Office Forensic Science Service\n",
      "           Aldermaston, Reading, Berkshire RG7 4PN\n",
      "    (b) Donor: Vina Spiehler, Ph.D., DABFT\n",
      "               Diagnostic Products Corporation\n",
      "               (213) 776-0180 (ext 3014)\n",
      "    (c) Date: September, 1987\n",
      "\n",
      "3. Past Usage:\n",
      "    -- Rule Induction in Forensic Science\n",
      "       -- Ian W. Evett and Ernest J. Spiehler\n",
      "       -- Central Research Establishment\n",
      "          Home Office Forensic Science Service\n",
      "          Aldermaston, Reading, Berkshire RG7 4PN\n",
      "       -- Unknown technical note number (sorry, not listed here)\n",
      "       -- General Results: nearest neighbor held its own with respect to the\n",
      "             rule-based system\n",
      "\n",
      "4. Relevant Information:n\n",
      "      Vina conducted a comparison test of her rule-based system, BEAGLE, the\n",
      "      nearest-neighbor algorithm, and discriminant analysis.  BEAGLE is \n",
      "      a product available through VRS Consulting, Inc.; 4676 Admiralty Way,\n",
      "      Suite 206; Marina Del Ray, CA 90292 (213) 827-7890 and FAX: -3189.\n",
      "      In determining whether the glass was a type of \"float\" glass or not,\n",
      "      the following results were obtained (# incorrect answers):\n",
      "\n",
      "             Type of Sample                            Beagle   NN    DA\n",
      "             Windows that were float processed (87)     10      12    21\n",
      "             Windows that were not:            (76)     19      16    22\n",
      "\n",
      "      The study of classification of types of glass was motivated by \n",
      "      criminological investigation.  At the scene of the crime, the glass left\n",
      "      can be used as evidence...if it is correctly identified!\n",
      "\n",
      "5. Number of Instances: 214\n",
      "\n",
      "6. Number of Attributes: 10 (including an Id#) plus the class attribute\n",
      "   -- all attributes are continuously valued\n",
      "\n",
      "7. Attribute Information:\n",
      "   1. Id number: 1 to 214\n",
      "   2. RI: refractive index\n",
      "   3. Na: Sodium (unit measurement: weight percent in corresponding oxide, as \n",
      "                  are attributes 4-10)\n",
      "   4. Mg: Magnesium\n",
      "   5. Al: Aluminum\n",
      "   6. Si: Silicon\n",
      "   7. K: Potassium\n",
      "   8. Ca: Calcium\n",
      "   9. Ba: Barium\n",
      "  10. Fe: Iron\n",
      "  11. Type of glass: (class attribute)\n",
      "      -- 1 building_windows_float_processed\n",
      "      -- 2 building_windows_non_float_processed\n",
      "      -- 3 vehicle_windows_float_processed\n",
      "      -- 4 vehicle_windows_non_float_processed (none in this database)\n",
      "      -- 5 containers\n",
      "      -- 6 tableware\n",
      "      -- 7 headlamps\n",
      "\n",
      "8. Missing Attribute Values: None\n",
      "\n",
      "Summary Statistics:\n",
      "Attribute:   Min     Max      Mean     SD      Correlation with class\n",
      " 2. RI:       1.5112  1.5339   1.5184  0.0030  -0.1642\n",
      " 3. Na:      10.73   17.38    13.4079  0.8166   0.5030\n",
      " 4. Mg:       0       4.49     2.6845  1.4424  -0.7447\n",
      " 5. Al:       0.29    3.5      1.4449  0.4993   0.5988\n",
      " 6. Si:      69.81   75.41    72.6509  0.7745   0.1515\n",
      " 7. K:        0       6.21     0.4971  0.6522  -0.0100\n",
      " 8. Ca:       5.43   16.19     8.9570  1.4232   0.0007\n",
      " 9. Ba:       0       3.15     0.1750  0.4972   0.5751\n",
      "10. Fe:       0       0.51     0.0570  0.0974  -0.1879\n",
      "\n",
      "9. Class Distribution: (out of 214 total instances)\n",
      "    -- 163 Window glass (building windows and vehicle windows)\n",
      "       -- 87 float processed  \n",
      "          -- 70 building windows\n",
      "          -- 17 vehicle windows\n",
      "       -- 76 non-float processed\n",
      "          -- 76 building windows\n",
      "          -- 0 vehicle windows\n",
      "    -- 51 Non-window glass\n",
      "       -- 13 containers\n",
      "       -- 9 tableware\n",
      "       -- 29 headlamps\n",
      "\n",
      "\n",
      "\n",
      "\n",
      "\n"
     ]
    }
   ],
   "metadata": {}
  },
  {
   "cell_type": "markdown",
   "source": [
    "The `glass` dataset is a combination of features and categories. From the description, we know that the features that we are interested are in columns **2 - 10**. <br>It is common practice that most of the data have their **expected value/ categories** in the last column, which is also the case in this dataset.<br><br> Using `iloc`, separate the data into :<br> `glass_data` which contains features <br>`glass_target` which contains expected values/ categories."
   ],
   "metadata": {}
  },
  {
   "cell_type": "code",
   "execution_count": 84,
   "source": [
    "glass_data = glass.iloc[:,1:-1]\r\n",
    "glass_target = glass.iloc[:,-1]"
   ],
   "outputs": [],
   "metadata": {}
  },
  {
   "cell_type": "code",
   "execution_count": 85,
   "source": [
    "glass_target.value_counts()"
   ],
   "outputs": [
    {
     "output_type": "execute_result",
     "data": {
      "text/plain": [
       "2    76\n",
       "1    70\n",
       "7    29\n",
       "3    17\n",
       "5    13\n",
       "6     9\n",
       "Name: Class, dtype: int64"
      ]
     },
     "metadata": {},
     "execution_count": 85
    }
   ],
   "metadata": {}
  },
  {
   "cell_type": "code",
   "execution_count": 86,
   "source": [
    "glass_target.hist()"
   ],
   "outputs": [
    {
     "output_type": "execute_result",
     "data": {
      "text/plain": [
       "<AxesSubplot:>"
      ]
     },
     "metadata": {},
     "execution_count": 86
    },
    {
     "output_type": "display_data",
     "data": {
      "image/png": "[encoded data removed]",
      "text/plain": [
       "<Figure size 432x288 with 1 Axes>"
      ]
     },
     "metadata": {
      "needs_background": "light"
     }
    }
   ],
   "metadata": {}
  },
  {
   "cell_type": "markdown",
   "source": [
    "Notice that the amounts of data in each class varies too much. This is a showcase of what's called **imbalanced data**.<br><br>\n",
    "There are a few ways to tackle this problem. Here, we are choosing to use a method called **oversampling**.<br><br>\n",
    "**Oversampling** refers to increasing the number of data points in the minority classes.<br><br>\n",
    "There are a few techniques for oversampling:\n",
    "1. Random sampling\n",
    "2. SMOTE: Synthetic Minority Over-sampling Technique\n",
    "3. ADASYN: Adaptive Synthetic Sampling\n",
    "\n",
    "For more details about oversampling do refer to https://machinelearningmastery.com/random-oversampling-and-undersampling-for-imbalanced-classification/.<br><br>\n",
    "In this case, we are going to utilize `SMOTE` as `SMOTE` can avoid overfitting.To oversample the data, we are going to utilize a external library called `imblearn`.<br><i>Note: To install this library, run this command: `pip install imblearn` in command line/ terminal."
   ],
   "metadata": {}
  },
  {
   "cell_type": "code",
   "execution_count": 87,
   "source": [
    "!pip install imblearn"
   ],
   "outputs": [
    {
     "output_type": "stream",
     "name": "stdout",
     "text": [
      "Requirement already satisfied: imblearn in c:\\python39\\lib\\site-packages (0.0)\n",
      "Requirement already satisfied: imbalanced-learn in c:\\python39\\lib\\site-packages (from imblearn) (0.8.0)\n",
      "Requirement already satisfied: joblib>=0.11 in c:\\users\\user\\appdata\\roaming\\python\\python39\\site-packages (from imbalanced-learn->imblearn) (0.17.0)\n",
      "Requirement already satisfied: numpy>=1.13.3 in c:\\python39\\lib\\site-packages (from imbalanced-learn->imblearn) (1.19.2)\n",
      "Requirement already satisfied: scipy>=0.19.1 in c:\\users\\user\\appdata\\roaming\\python\\python39\\site-packages (from imbalanced-learn->imblearn) (1.5.4)\n",
      "Requirement already satisfied: scikit-learn>=0.24 in c:\\users\\user\\appdata\\roaming\\python\\python39\\site-packages (from imbalanced-learn->imblearn) (0.24.0)\n",
      "Requirement already satisfied: threadpoolctl>=2.0.0 in c:\\users\\user\\appdata\\roaming\\python\\python39\\site-packages (from scikit-learn>=0.24->imbalanced-learn->imblearn) (2.1.0)\n"
     ]
    },
    {
     "output_type": "stream",
     "name": "stderr",
     "text": [
      "WARNING: Ignoring invalid distribution -ip (c:\\python39\\lib\\site-packages)\n",
      "WARNING: Ignoring invalid distribution -ip (c:\\python39\\lib\\site-packages)\n",
      "WARNING: Ignoring invalid distribution -ip (c:\\python39\\lib\\site-packages)\n",
      "WARNING: Ignoring invalid distribution -ip (c:\\python39\\lib\\site-packages)\n",
      "WARNING: You are using pip version 21.1.1; however, version 21.2.4 is available.\n",
      "You should consider upgrading via the 'c:\\python39\\python.exe -m pip install --upgrade pip' command.\n"
     ]
    }
   ],
   "metadata": {}
  },
  {
   "cell_type": "code",
   "execution_count": 88,
   "source": [
    "oversample = SMOTE()\r\n",
    "glass_data, glass_target = oversample.fit_resample(glass_data,glass_target)"
   ],
   "outputs": [],
   "metadata": {}
  },
  {
   "cell_type": "code",
   "execution_count": 89,
   "source": [
    "glass_target.hist()"
   ],
   "outputs": [
    {
     "output_type": "execute_result",
     "data": {
      "text/plain": [
       "<AxesSubplot:>"
      ]
     },
     "metadata": {},
     "execution_count": 89
    },
    {
     "output_type": "display_data",
     "data": {
      "image/png": "[encoded data removed]",
      "text/plain": [
       "<Figure size 432x288 with 1 Axes>"
      ]
     },
     "metadata": {
      "needs_background": "light"
     }
    }
   ],
   "metadata": {}
  },
  {
   "cell_type": "markdown",
   "source": [
    "Split `glass_data_scaled` into **test and train data**.<br>Test size = 0.3"
   ],
   "metadata": {}
  },
  {
   "cell_type": "code",
   "execution_count": 90,
   "source": [
    "# TODO: Split data into 70% training and 30% test\r\n",
    "X_train2, X_test2, y_train2, y_test2 = model_selection.train_test_split(\r\n",
    "    glass_data, glass_target, test_size=0.3, random_state=123\r\n",
    ")"
   ],
   "outputs": [],
   "metadata": {}
  },
  {
   "cell_type": "markdown",
   "source": [
    "Perform **feature scaling** on the `X_train2`,`X_test2` into **`X_train2_scaled`** and **`X_test2_scaled`** respectively.<br>\n",
    "<I>Hint: fit_transform on the training data and transform only on the test data"
   ],
   "metadata": {}
  },
  {
   "cell_type": "code",
   "execution_count": 91,
   "source": [
    "# TODO: Replace {} with your answer to scale the data\r\n",
    "\r\n",
    "scaler = preprocessing.StandardScaler()\r\n",
    "X_train2_scaled = scaler.fit_transform(X_train2)\r\n",
    "X_test2_scaled = scaler.fit_transform(X_test2)"
   ],
   "outputs": [],
   "metadata": {}
  },
  {
   "cell_type": "markdown",
   "source": [
    "### Model Training\n",
    "\n",
    "Initialize KNN Model named `model_2` with `k=3`"
   ],
   "metadata": {}
  },
  {
   "cell_type": "code",
   "execution_count": 92,
   "source": [
    "# TODO: Initialize KNN model\r\n",
    "\r\n",
    "model_2 = KNeighborsClassifier(n_neighbors= 3)"
   ],
   "outputs": [],
   "metadata": {}
  },
  {
   "cell_type": "code",
   "execution_count": 93,
   "source": [
    "# TODO: Fit data into the model to train the model\r\n",
    "\r\n",
    "model_2.fit(X_train2_scaled, y_train2)"
   ],
   "outputs": [
    {
     "output_type": "execute_result",
     "data": {
      "text/plain": [
       "KNeighborsClassifier(n_neighbors=3)"
      ]
     },
     "metadata": {},
     "execution_count": 93
    }
   ],
   "metadata": {}
  },
  {
   "cell_type": "markdown",
   "source": [
    "### Evaluation\n",
    "\n",
    "Predict the values for the test data and do an **`accuracy test`** and a **`confusion matrix`**."
   ],
   "metadata": {}
  },
  {
   "cell_type": "code",
   "execution_count": 94,
   "source": [
    "prediction = model_2.predict(X_test2_scaled)\r\n",
    "metrics.accuracy_score(y_test2,prediction)"
   ],
   "outputs": [
    {
     "output_type": "execute_result",
     "data": {
      "text/plain": [
       "0.8613138686131386"
      ]
     },
     "metadata": {},
     "execution_count": 94
    }
   ],
   "metadata": {}
  },
  {
   "cell_type": "code",
   "execution_count": 95,
   "source": [
    "metrics.confusion_matrix(y_test2,prediction)"
   ],
   "outputs": [
    {
     "output_type": "execute_result",
     "data": {
      "text/plain": [
       "array([[20,  3,  3,  0,  0,  0],\n",
       "       [ 7,  9,  4,  0,  0,  0],\n",
       "       [ 1,  0, 22,  0,  0,  0],\n",
       "       [ 0,  0,  0, 26,  0,  0],\n",
       "       [ 0,  0,  0,  0, 19,  0],\n",
       "       [ 1,  0,  0,  0,  0, 22]], dtype=int64)"
      ]
     },
     "metadata": {},
     "execution_count": 95
    }
   ],
   "metadata": {}
  },
  {
   "cell_type": "markdown",
   "source": [
    "Besides accuracy score and confusion matrix, **precision** and **recall** both provide some insights to any classification model that you're trying to train.<br>\n",
    "- **`Precision`** : the percentage of your results which are relevant.\n",
    "$$Precision = \\frac{TP}{TP+FP}$$ \n",
    "where: <br>\n",
    "$TP$ = True positive<br>\n",
    "$FP$ = False positive<br><br>\n",
    "- **`Recall`** :the percentage of total relevant results correctly classified by your algorithm. \n",
    "$$Recall = \\frac{TP}{TP+FN}$$ \n",
    "where: <br>\n",
    "$TP$ = True positive<br>\n",
    "$FN$ = False negative<br>\n"
   ],
   "metadata": {}
  },
  {
   "cell_type": "code",
   "execution_count": 96,
   "source": [
    "print(metrics.recall_score(y_test2, prediction, average=None))"
   ],
   "outputs": [
    {
     "output_type": "stream",
     "name": "stdout",
     "text": [
      "[0.76923077 0.45       0.95652174 1.         1.         0.95652174]\n"
     ]
    }
   ],
   "metadata": {}
  },
  {
   "cell_type": "code",
   "execution_count": 97,
   "source": [
    "print(metrics.precision_score(y_test2,prediction,average=None))"
   ],
   "outputs": [
    {
     "output_type": "stream",
     "name": "stdout",
     "text": [
      "[0.68965517 0.75       0.75862069 1.         1.         1.        ]\n"
     ]
    }
   ],
   "metadata": {}
  },
  {
   "cell_type": "code",
   "execution_count": 98,
   "source": [
    "print(metrics.classification_report(y_test2, prediction))"
   ],
   "outputs": [
    {
     "output_type": "stream",
     "name": "stdout",
     "text": [
      "              precision    recall  f1-score   support\n",
      "\n",
      "           1       0.69      0.77      0.73        26\n",
      "           2       0.75      0.45      0.56        20\n",
      "           3       0.76      0.96      0.85        23\n",
      "           5       1.00      1.00      1.00        26\n",
      "           6       1.00      1.00      1.00        19\n",
      "           7       1.00      0.96      0.98        23\n",
      "\n",
      "    accuracy                           0.86       137\n",
      "   macro avg       0.87      0.86      0.85       137\n",
      "weighted avg       0.86      0.86      0.85       137\n",
      "\n"
     ]
    }
   ],
   "metadata": {}
  },
  {
   "cell_type": "markdown",
   "source": [
    "Occasionally we want to see if the model is overfit by the training data. In such cases we may try to measure the accuracy of the predictions by the training data itself.<br><br>\n",
    "Here we try to compare both the results.<br><br>\n",
    "If the accuracy is not that distinct from that of the test data, the model is well-fit."
   ],
   "metadata": {}
  },
  {
   "cell_type": "code",
   "execution_count": 104,
   "source": [
    "print(metrics.accuracy_score(y_train2, model_2.predict(X_train2_scaled)))"
   ],
   "outputs": [
    {
     "output_type": "stream",
     "name": "stdout",
     "text": [
      "0.9310344827586207\n"
     ]
    }
   ],
   "metadata": {}
  },
  {
   "cell_type": "markdown",
   "source": [
    "## References\n",
    "C.L. Blake and C.J. Merz (1998). UCI repository of machine learning databases. University\n",
    "of California. [www http://www.ics.uci.edu/∼mlearn/MLRepository.html]\n",
    "\n",
    "Kohli, S. (2019, November 18). Understanding a Classification Report For Your Machine Learning Model. Retrieved August 06, 2020, from https://medium.com/@kohlishivam5522/understanding-a-classification-report-for-your-machine-learning-model-88815e2ce397"
   ],
   "metadata": {}
  }
 ],
 "metadata": {
  "kernelspec": {
   "name": "python3",
   "display_name": "Python 3.9.0 64-bit"
  },
  "language_info": {
   "codemirror_mode": {
    "name": "ipython",
    "version": 3
   },
   "file_extension": ".py",
   "mimetype": "text/x-python",
   "name": "python",
   "nbconvert_exporter": "python",
   "pygments_lexer": "ipython3",
   "version": "3.9.0"
  },
  "interpreter": {
   "hash": "63fd5069d213b44bf678585dea6b12cceca9941eaf7f819626cde1f2670de90d"
  }
 },
 "nbformat": 4,
 "nbformat_minor": 2
}