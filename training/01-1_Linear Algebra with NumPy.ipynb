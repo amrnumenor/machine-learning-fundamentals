{
 "cells": [
  {
   "cell_type": "code",
   "execution_count": 2,
   "source": [
    "# Copyright (c) 2019 Skymind AI Bhd.\r\n",
    "# Copyright (c) 2020 CertifAI Sdn. Bhd.\r\n",
    "#\r\n",
    "# This program and the accompanying materials are made available under the\r\n",
    "# terms of the Apache License, Version 2.0 which is available at\r\n",
    "# https://www.apache.org/licenses/LICENSE-2.0.\r\n",
    "# Unless required by applicable law or agreed to in writing, software\r\n",
    "# distributed under the License is distributed on an \"AS IS\" BASIS, WITHOUT\r\n",
    "# WARRANTIES OR CONDITIONS OF ANY KIND, either express or implied. See the\r\n",
    "# License for the specific language governing permissions and limitations\r\n",
    "# under the License.\r\n",
    "#\r\n",
    "# SPDX-License-Identifier: Apache-2.0"
   ],
   "outputs": [],
   "metadata": {
    "deletable": false,
    "editable": false
   }
  },
  {
   "cell_type": "markdown",
   "source": [
    "# Linear Algebra with NumPy\n",
    "\n",
    "We'll be using the numerical computing library NumPy, as well as the scientific and technical computing library SciPy. "
   ],
   "metadata": {}
  },
  {
   "cell_type": "code",
   "execution_count": 3,
   "source": [
    "import numpy as np \r\n",
    "import scipy.linalg as la"
   ],
   "outputs": [],
   "metadata": {}
  },
  {
   "cell_type": "markdown",
   "source": [
    "## Operations \n",
    "### Matrix transposition \n",
    "\n",
    "The transposed matrix A is denoted $A^{T}$."
   ],
   "metadata": {}
  },
  {
   "cell_type": "code",
   "execution_count": 4,
   "source": [
    "A = np.array([[1, 2], [3, 4]])\r\n",
    "A.T "
   ],
   "outputs": [
    {
     "output_type": "execute_result",
     "data": {
      "text/plain": [
       "array([[1, 3],\n",
       "       [2, 4]])"
      ]
     },
     "metadata": {},
     "execution_count": 4
    }
   ],
   "metadata": {}
  },
  {
   "cell_type": "markdown",
   "source": [
    "### Element-wise product\n",
    "The element-wise product of A and B is denoted $AB$. It multiplies the values of two matrices element-wise."
   ],
   "metadata": {}
  },
  {
   "cell_type": "code",
   "execution_count": 5,
   "source": [
    "B = np.array([[5, 6], [7, 8]])\r\n",
    "\r\n",
    "# in the previous notebook, we used np.matmul(A, B)\r\n",
    "# we can also use Python's multiplication operator\r\n",
    "A * B"
   ],
   "outputs": [
    {
     "output_type": "execute_result",
     "data": {
      "text/plain": [
       "array([[ 5, 12],\n",
       "       [21, 32]])"
      ]
     },
     "metadata": {},
     "execution_count": 5
    }
   ],
   "metadata": {}
  },
  {
   "cell_type": "markdown",
   "source": [
    "### Matrix product \n",
    "\n",
    "The matrix product operator is `@`. The inner product of A and B is denoted $AB^{T}$. "
   ],
   "metadata": {}
  },
  {
   "cell_type": "code",
   "execution_count": 6,
   "source": [
    "# in the previous notebook, we used np.multiply(A, B) \r\n",
    "# in this notebook we'll use the `@` operator provided by NumPy \r\n",
    "A @ B"
   ],
   "outputs": [
    {
     "output_type": "execute_result",
     "data": {
      "text/plain": [
       "array([[19, 22],\n",
       "       [43, 50]])"
      ]
     },
     "metadata": {},
     "execution_count": 6
    }
   ],
   "metadata": {}
  },
  {
   "cell_type": "markdown",
   "source": [
    "### Matrix inversion \n",
    "\n",
    "Recall the definition of an inverse matrix: \n",
    "\n",
    "$$ AA^{-1} = A^{-1}A = I$$\n",
    "\n",
    "Use `scipy.linalg` to find the inverse programmatically:"
   ],
   "metadata": {}
  },
  {
   "cell_type": "code",
   "execution_count": 7,
   "source": [
    "A_inv = la.inv(A)\r\n",
    "print(A_inv)"
   ],
   "outputs": [
    {
     "output_type": "stream",
     "name": "stdout",
     "text": [
      "[[-2.   1. ]\n",
      " [ 1.5 -0.5]]\n"
     ]
    }
   ],
   "metadata": {}
  },
  {
   "cell_type": "code",
   "execution_count": 8,
   "source": [
    "A @ A_inv"
   ],
   "outputs": [
    {
     "output_type": "execute_result",
     "data": {
      "text/plain": [
       "array([[1.0000000e+00, 0.0000000e+00],\n",
       "       [8.8817842e-16, 1.0000000e+00]])"
      ]
     },
     "metadata": {},
     "execution_count": 8
    }
   ],
   "metadata": {}
  },
  {
   "cell_type": "markdown",
   "source": [
    "which is the identity matrix. "
   ],
   "metadata": {}
  },
  {
   "cell_type": "markdown",
   "source": [
    "For a matrix to be invertible, it must be a square matrix. The inverse of a $2\\times2$ matrix A is\n",
    "\n",
    "$$A^{-1}=\\begin{bmatrix} a & b \\\\ c & d \\end{bmatrix}^{-1} = \\frac{1}{ad - bc} \\begin{bmatrix} d & -b \\\\ -c & a \\end{bmatrix}$$\n",
    "\n",
    "Not all square matrices are invertible. As can be seen from the formula, if $\\det{(A)} = ad-bc = 0$, the inverse of A does not exist ($1/0$). "
   ],
   "metadata": {}
  },
  {
   "cell_type": "code",
   "execution_count": 9,
   "source": [
    "noninvert = np.array([[6, 4], [3, 2]])\r\n",
    "la.det(noninvert)"
   ],
   "outputs": [
    {
     "output_type": "execute_result",
     "data": {
      "text/plain": [
       "0.0"
      ]
     },
     "metadata": {},
     "execution_count": 9
    }
   ],
   "metadata": {}
  },
  {
   "cell_type": "markdown",
   "source": [
    "### Permutation matrices\n",
    "\n",
    "Recall that a permutation matrix is just an identity matrix with its rows reordered. A permutation matrix allows us to swap the rows and columns of a matrix. \n",
    "\n"
   ],
   "metadata": {}
  },
  {
   "cell_type": "markdown",
   "source": [
    "When multiplied with an identity matrix, a $n\\times n$ square matrix $A$ returns itself: \n",
    "\n",
    "$$AI_n=A$$"
   ],
   "metadata": {}
  },
  {
   "cell_type": "code",
   "execution_count": 10,
   "source": [
    "p = np.array([[1, 0, 0], [0, 1, 0], [0, 0, 1]])\r\n",
    "p"
   ],
   "outputs": [
    {
     "output_type": "execute_result",
     "data": {
      "text/plain": [
       "array([[1, 0, 0],\n",
       "       [0, 1, 0],\n",
       "       [0, 0, 1]])"
      ]
     },
     "metadata": {},
     "execution_count": 10
    }
   ],
   "metadata": {}
  },
  {
   "cell_type": "code",
   "execution_count": 11,
   "source": [
    "mat = np.array([[6, 4, 3], [2, 9, 8], [1, 3, 3]])\r\n",
    "mat"
   ],
   "outputs": [
    {
     "output_type": "execute_result",
     "data": {
      "text/plain": [
       "array([[6, 4, 3],\n",
       "       [2, 9, 8],\n",
       "       [1, 3, 3]])"
      ]
     },
     "metadata": {},
     "execution_count": 11
    }
   ],
   "metadata": {}
  },
  {
   "cell_type": "code",
   "execution_count": 12,
   "source": [
    "p @ mat"
   ],
   "outputs": [
    {
     "output_type": "execute_result",
     "data": {
      "text/plain": [
       "array([[6, 4, 3],\n",
       "       [2, 9, 8],\n",
       "       [1, 3, 3]])"
      ]
     },
     "metadata": {},
     "execution_count": 12
    }
   ],
   "metadata": {}
  },
  {
   "cell_type": "markdown",
   "source": [
    "Note that (left) multiplying any matrix by a permutation matrix rearranges its rows: "
   ],
   "metadata": {}
  },
  {
   "cell_type": "code",
   "execution_count": 13,
   "source": [
    "p1 = np.array([[1, 0, 0], [0, 0, 1], [0, 1, 0]])\r\n",
    "p1 @ mat"
   ],
   "outputs": [
    {
     "output_type": "execute_result",
     "data": {
      "text/plain": [
       "array([[6, 4, 3],\n",
       "       [1, 3, 3],\n",
       "       [2, 9, 8]])"
      ]
     },
     "metadata": {},
     "execution_count": 13
    }
   ],
   "metadata": {}
  },
  {
   "cell_type": "markdown",
   "source": [
    "and right multiplication rearranges its *columns*: "
   ],
   "metadata": {}
  },
  {
   "cell_type": "code",
   "execution_count": 14,
   "source": [
    "mat @ p1"
   ],
   "outputs": [
    {
     "output_type": "execute_result",
     "data": {
      "text/plain": [
       "array([[6, 3, 4],\n",
       "       [2, 8, 9],\n",
       "       [1, 3, 3]])"
      ]
     },
     "metadata": {},
     "execution_count": 14
    }
   ],
   "metadata": {}
  },
  {
   "cell_type": "markdown",
   "source": [
    "## Solving systems of linear equations\n",
    "\n",
    "Recall in the slides that we tried to solve the following system of linear equations: \n",
    "\n",
    "$$x_1+5x_2=7$$\n",
    "$$-2x_1-7x_2=-5$$\n",
    "\n",
    "The matrix representation of the above equations are as follows: "
   ],
   "metadata": {}
  },
  {
   "cell_type": "code",
   "execution_count": 15,
   "source": [
    "A = np.array([[1, 5], [-2, -7]])\r\n",
    "B = np.array([[7, -5]])"
   ],
   "outputs": [],
   "metadata": {}
  },
  {
   "cell_type": "markdown",
   "source": [
    "We can solve this programmatically with `scipy.linalg`: "
   ],
   "metadata": {}
  },
  {
   "cell_type": "code",
   "execution_count": 16,
   "source": [
    "la.solve(A, B.T)"
   ],
   "outputs": [
    {
     "output_type": "execute_result",
     "data": {
      "text/plain": [
       "array([[-8.],\n",
       "       [ 3.]])"
      ]
     },
     "metadata": {},
     "execution_count": 16
    }
   ],
   "metadata": {}
  },
  {
   "cell_type": "markdown",
   "source": [
    "Convince yourself that the above values ($x_1 = -8, x_2 = 3$) satisfy the system of linear equations above. "
   ],
   "metadata": {}
  },
  {
   "cell_type": "markdown",
   "source": [
    "### Gaussian elimination\n",
    "\n",
    "In the lectures, we showed how the Gaussian elimination algorithm can be used to solve systems of linear equations. \n",
    "\n",
    "Gaussian elimination involves performing the following **elementary row operations**: \n",
    "1. Add $k$ times row $j$ to row $i$.\n",
    "2. Multiply row $i$ by scalar $k$.\n",
    "\n",
    "The following helper functions are sourced from [patrickwalls/mathematical-python](https://www.math.ubc.ca/~pwalls/math-python/linear-algebra/solving-linear-systems/)"
   ],
   "metadata": {}
  },
  {
   "cell_type": "code",
   "execution_count": 17,
   "source": [
    "def add_row(A, multiplier_k, row_j, row_i):\r\n",
    "    \"Add k times row j to row i in matrix A.\"\r\n",
    "    n = A.shape[0]\r\n",
    "    E = np.eye(n)\r\n",
    "    if row_i == row_j:\r\n",
    "        E[row_i, row_i] = multiplier_k + 1\r\n",
    "    else:\r\n",
    "        E[row_i, row_j] = multiplier_k\r\n",
    "    return E @ A\r\n",
    "\r\n",
    "\r\n",
    "def scale_row(A, row_i, multiplier_k):\r\n",
    "    \"Multiply row i by k in matrix A.\"\r\n",
    "    n = A.shape[0]\r\n",
    "    E = np.eye(n)\r\n",
    "    E[row_i, row_i] = multiplier_k\r\n",
    "    return E @ A"
   ],
   "outputs": [],
   "metadata": {}
  },
  {
   "cell_type": "markdown",
   "source": [
    "First, concatenate the two matrices:"
   ],
   "metadata": {}
  },
  {
   "cell_type": "code",
   "execution_count": 18,
   "source": [
    "E = np.concatenate((A, B.T), axis=1)\r\n",
    "E"
   ],
   "outputs": [
    {
     "output_type": "execute_result",
     "data": {
      "text/plain": [
       "array([[ 1,  5,  7],\n",
       "       [-2, -7, -5]])"
      ]
     },
     "metadata": {},
     "execution_count": 18
    }
   ],
   "metadata": {}
  },
  {
   "cell_type": "markdown",
   "source": [
    "Remember, the goal is to transform A into an identity matrix. We usually do this by transforming A into an upper triangular matrix (a matrix with 0s below the matrix diagonals) using the elementary operations, *and then* into an identity matrix. \n",
    "\n",
    "Our first operation is to add twice of the first row to the second row. Now, the first element in the second row is 0. "
   ],
   "metadata": {}
  },
  {
   "cell_type": "code",
   "execution_count": 19,
   "source": [
    "E1 = add_row(E, 2, 0, 1)\r\n",
    "E1"
   ],
   "outputs": [
    {
     "output_type": "execute_result",
     "data": {
      "text/plain": [
       "array([[1., 5., 7.],\n",
       "       [0., 3., 9.]])"
      ]
     },
     "metadata": {},
     "execution_count": 19
    }
   ],
   "metadata": {}
  },
  {
   "cell_type": "markdown",
   "source": [
    "Now we can scale down row 2 by a factor of 3 ... "
   ],
   "metadata": {}
  },
  {
   "cell_type": "code",
   "execution_count": 20,
   "source": [
    "E2 = scale_row(E1, 1, 1/3)\r\n",
    "E2"
   ],
   "outputs": [
    {
     "output_type": "execute_result",
     "data": {
      "text/plain": [
       "array([[1., 5., 7.],\n",
       "       [0., 1., 3.]])"
      ]
     },
     "metadata": {},
     "execution_count": 20
    }
   ],
   "metadata": {}
  },
  {
   "cell_type": "markdown",
   "source": [
    "and subtract five times of row 2 from the first row. \n",
    "\n",
    "Now we have an identity matrix in the first two columns of E3, and the solution in the last column."
   ],
   "metadata": {}
  },
  {
   "cell_type": "code",
   "execution_count": 21,
   "source": [
    "E3 = add_row(E2, -5, 1, 0)\r\n",
    "E3"
   ],
   "outputs": [
    {
     "output_type": "execute_result",
     "data": {
      "text/plain": [
       "array([[ 1.,  0., -8.],\n",
       "       [ 0.,  1.,  3.]])"
      ]
     },
     "metadata": {},
     "execution_count": 21
    }
   ],
   "metadata": {}
  },
  {
   "cell_type": "markdown",
   "source": [
    "which is identical to our programmatic solution. "
   ],
   "metadata": {}
  },
  {
   "cell_type": "markdown",
   "source": [
    "### Permutation matrices and Gaussian elimination\n",
    "\n",
    "Permutation matrices allow us to bypass a limitation of the Gaussian elimination algorithm. \n",
    "\n",
    "Take for example the following system of equations \n",
    "\n",
    "$$2x_2 = 4$$\n",
    "$$3x_1-2x_2=5$$\n",
    "\n",
    "This system of equations clearly has a solution, but let's see how this would be solved under Gaussian elimination. "
   ],
   "metadata": {}
  },
  {
   "cell_type": "code",
   "execution_count": 22,
   "source": [
    "A = np.array([[0, 2], [3, -2]])\r\n",
    "B = np.array([[4], [5]])"
   ],
   "outputs": [],
   "metadata": {}
  },
  {
   "cell_type": "code",
   "execution_count": 25,
   "source": [
    "E = np.concatenate((A, B), axis=1)\r\n",
    "E"
   ],
   "outputs": [
    {
     "output_type": "execute_result",
     "data": {
      "text/plain": [
       "array([[ 0,  2,  4],\n",
       "       [ 3, -2,  5]])"
      ]
     },
     "metadata": {},
     "execution_count": 25
    }
   ],
   "metadata": {}
  },
  {
   "cell_type": "markdown",
   "source": [
    "One way to solve this is to switch the first and second rows. We define a helper function to switch rows: "
   ],
   "metadata": {}
  },
  {
   "cell_type": "code",
   "execution_count": 26,
   "source": [
    "def switch_rows(A, row_i, row_j):\r\n",
    "    \"Switch rows i and j in matrix A.\"\r\n",
    "    n = A.shape[0]\r\n",
    "    E = np.eye(n)\r\n",
    "    E[row_i, row_i] = 0\r\n",
    "    E[row_j, row_j] = 0\r\n",
    "    E[row_i, row_j] = 1\r\n",
    "    E[row_j, row_i] = 1\r\n",
    "    return E @ A"
   ],
   "outputs": [],
   "metadata": {}
  },
  {
   "cell_type": "code",
   "execution_count": 27,
   "source": [
    "E1 = switch_rows(E, 0, 1)\r\n",
    "E1"
   ],
   "outputs": [
    {
     "output_type": "execute_result",
     "data": {
      "text/plain": [
       "array([[ 3., -2.,  5.],\n",
       "       [ 0.,  2.,  4.]])"
      ]
     },
     "metadata": {},
     "execution_count": 27
    }
   ],
   "metadata": {}
  },
  {
   "cell_type": "markdown",
   "source": [
    "Now add the two rows together, and scale each of the rows: "
   ],
   "metadata": {}
  },
  {
   "cell_type": "code",
   "execution_count": 28,
   "source": [
    "E2 = add_row(E1, 1, 1, 0)\r\n",
    "E2"
   ],
   "outputs": [
    {
     "output_type": "execute_result",
     "data": {
      "text/plain": [
       "array([[3., 0., 9.],\n",
       "       [0., 2., 4.]])"
      ]
     },
     "metadata": {},
     "execution_count": 28
    }
   ],
   "metadata": {}
  },
  {
   "cell_type": "code",
   "execution_count": 29,
   "source": [
    "E3 = scale_row(E2, 0, 1/3)\r\n",
    "E4 = scale_row(E3, 1, 1/2)\r\n",
    "E4"
   ],
   "outputs": [
    {
     "output_type": "execute_result",
     "data": {
      "text/plain": [
       "array([[1., 0., 3.],\n",
       "       [0., 1., 2.]])"
      ]
     },
     "metadata": {},
     "execution_count": 29
    }
   ],
   "metadata": {}
  },
  {
   "cell_type": "markdown",
   "source": [
    "## Norms"
   ],
   "metadata": {}
  },
  {
   "cell_type": "code",
   "execution_count": 30,
   "source": [
    "A = np.array([0, 0])\r\n",
    "B = np.array([3, 4])"
   ],
   "outputs": [],
   "metadata": {}
  },
  {
   "cell_type": "markdown",
   "source": [
    "The L1 norm, also known as the Manhattan distance, can be computed using `la.norm`: "
   ],
   "metadata": {}
  },
  {
   "cell_type": "code",
   "execution_count": 31,
   "source": [
    "la.norm(B - A, ord=1)"
   ],
   "outputs": [
    {
     "output_type": "execute_result",
     "data": {
      "text/plain": [
       "7.0"
      ]
     },
     "metadata": {},
     "execution_count": 31
    }
   ],
   "metadata": {}
  },
  {
   "cell_type": "markdown",
   "source": [
    "The Manhattan distance is $\\sum_{i=1}^n |x_i-y_i|$.\n",
    "\n",
    "In contrast, the L2 norm, also known as the Euclidean distance, is $\\sqrt{\\sum_{i=1}^n (x_i-y_i)^2}$.     "
   ],
   "metadata": {}
  },
  {
   "cell_type": "code",
   "execution_count": 32,
   "source": [
    "la.norm(B - A, ord=None)"
   ],
   "outputs": [
    {
     "output_type": "execute_result",
     "data": {
      "text/plain": [
       "5.0"
      ]
     },
     "metadata": {},
     "execution_count": 32
    }
   ],
   "metadata": {}
  },
  {
   "cell_type": "markdown",
   "source": [
    "## Exercise"
   ],
   "metadata": {}
  },
  {
   "cell_type": "markdown",
   "source": [
    "$$ XA = B$$\n",
    "\n",
    "Given matrix $A$ and $B$, find matrix $X$. \n"
   ],
   "metadata": {}
  },
  {
   "cell_type": "code",
   "execution_count": 33,
   "source": [
    "A = np.array([\r\n",
    "    [2, 5, 6, 1],\r\n",
    "    [2, 4, 5, 2],\r\n",
    "    [3, 5, 6, 3],\r\n",
    "    [6, 4, 2, 7]\r\n",
    "])\r\n",
    "A"
   ],
   "outputs": [
    {
     "output_type": "execute_result",
     "data": {
      "text/plain": [
       "array([[2, 5, 6, 1],\n",
       "       [2, 4, 5, 2],\n",
       "       [3, 5, 6, 3],\n",
       "       [6, 4, 2, 7]])"
      ]
     },
     "metadata": {},
     "execution_count": 33
    }
   ],
   "metadata": {}
  },
  {
   "cell_type": "code",
   "execution_count": 34,
   "source": [
    "B = np.array([2, 4, 5, 6])\r\n",
    "B"
   ],
   "outputs": [
    {
     "output_type": "execute_result",
     "data": {
      "text/plain": [
       "array([2, 4, 5, 6])"
      ]
     },
     "metadata": {},
     "execution_count": 34
    }
   ],
   "metadata": {}
  },
  {
   "cell_type": "code",
   "execution_count": 35,
   "source": [
    "B @ la.inv(A)"
   ],
   "outputs": [
    {
     "output_type": "execute_result",
     "data": {
      "text/plain": [
       "array([ -2.66666667,  19.66666667, -13.33333333,   1.33333333])"
      ]
     },
     "metadata": {},
     "execution_count": 35
    }
   ],
   "metadata": {}
  },
  {
   "cell_type": "markdown",
   "source": [
    "## References\n",
    "1. https://www.math.utah.edu/~zwick/Classes/Fall2012_2270/Lectures/Lecture7.pdf\n",
    "2. http://www.math.ubc.ca/~pwalls/math-python/\n",
    "3. https://github.com/rasbt/pattern_classification/blob/master/resources/latex_equations.md"
   ],
   "metadata": {}
  }
 ],
 "metadata": {
  "kernelspec": {
   "name": "python3",
   "display_name": "Python 3.9.0 64-bit"
  },
  "language_info": {
   "codemirror_mode": {
    "name": "ipython",
    "version": 3
   },
   "file_extension": ".py",
   "mimetype": "text/x-python",
   "name": "python",
   "nbconvert_exporter": "python",
   "pygments_lexer": "ipython3",
   "version": "3.9.0"
  },
  "interpreter": {
   "hash": "63fd5069d213b44bf678585dea6b12cceca9941eaf7f819626cde1f2670de90d"
  }
 },
 "nbformat": 4,
 "nbformat_minor": 4
}