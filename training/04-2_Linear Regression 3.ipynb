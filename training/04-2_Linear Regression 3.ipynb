{
 "cells": [
  {
   "cell_type": "code",
   "execution_count": 1,
   "source": [
    "# Copyright (c) 2019 Skymind AI Bhd.\r\n",
    "# Copyright (c) 2020 CertifAI Sdn. Bhd.\r\n",
    "#\r\n",
    "# This program and the accompanying materials are made available under the\r\n",
    "# terms of the Apache License, Version 2.0 which is available at\r\n",
    "# https://www.apache.org/licenses/LICENSE-2.0.\r\n",
    "# Unless required by applicable law or agreed to in writing, software\r\n",
    "# distributed under the License is distributed on an \"AS IS\" BASIS, WITHOUT\r\n",
    "# WARRANTIES OR CONDITIONS OF ANY KIND, either express or implied. See the\r\n",
    "# License for the specific language governing permissions and limitations\r\n",
    "# under the License.\r\n",
    "#\r\n",
    "# SPDX-License-Identifier: Apache-2.0"
   ],
   "outputs": [],
   "metadata": {
    "deletable": false,
    "editable": false
   }
  },
  {
   "cell_type": "code",
   "execution_count": 2,
   "source": [
    "import numpy as np\r\n",
    "import pandas as pd\r\n",
    "from sklearn import datasets\r\n",
    "from sklearn import model_selection\r\n",
    "from sklearn import metrics\r\n",
    "from sklearn.model_selection import train_test_split\r\n",
    "from sklearn.linear_model import LinearRegression\r\n",
    "from sklearn import preprocessing\r\n",
    "\r\n",
    "import matplotlib.pyplot as plt\r\n",
    "%matplotlib inline"
   ],
   "outputs": [],
   "metadata": {}
  },
  {
   "cell_type": "markdown",
   "source": [
    "## View data"
   ],
   "metadata": {}
  },
  {
   "cell_type": "code",
   "execution_count": 3,
   "source": [
    "df = pd.read_csv('https://www4.stat.ncsu.edu/~boos/var.select/diabetes.tab.txt', sep=\"\\t\")"
   ],
   "outputs": [],
   "metadata": {}
  },
  {
   "cell_type": "code",
   "execution_count": 4,
   "source": [
    "df.head()"
   ],
   "outputs": [
    {
     "output_type": "execute_result",
     "data": {
      "text/html": [
       "<div>\n",
       "<style scoped>\n",
       "    .dataframe tbody tr th:only-of-type {\n",
       "        vertical-align: middle;\n",
       "    }\n",
       "\n",
       "    .dataframe tbody tr th {\n",
       "        vertical-align: top;\n",
       "    }\n",
       "\n",
       "    .dataframe thead th {\n",
       "        text-align: right;\n",
       "    }\n",
       "</style>\n",
       "<table border=\"1\" class=\"dataframe\">\n",
       "  <thead>\n",
       "    <tr style=\"text-align: right;\">\n",
       "      <th></th>\n",
       "      <th>AGE</th>\n",
       "      <th>SEX</th>\n",
       "      <th>BMI</th>\n",
       "      <th>BP</th>\n",
       "      <th>S1</th>\n",
       "      <th>S2</th>\n",
       "      <th>S3</th>\n",
       "      <th>S4</th>\n",
       "      <th>S5</th>\n",
       "      <th>S6</th>\n",
       "      <th>Y</th>\n",
       "    </tr>\n",
       "  </thead>\n",
       "  <tbody>\n",
       "    <tr>\n",
       "      <th>0</th>\n",
       "      <td>59</td>\n",
       "      <td>2</td>\n",
       "      <td>32.1</td>\n",
       "      <td>101.0</td>\n",
       "      <td>157</td>\n",
       "      <td>93.2</td>\n",
       "      <td>38.0</td>\n",
       "      <td>4.0</td>\n",
       "      <td>4.8598</td>\n",
       "      <td>87</td>\n",
       "      <td>151</td>\n",
       "    </tr>\n",
       "    <tr>\n",
       "      <th>1</th>\n",
       "      <td>48</td>\n",
       "      <td>1</td>\n",
       "      <td>21.6</td>\n",
       "      <td>87.0</td>\n",
       "      <td>183</td>\n",
       "      <td>103.2</td>\n",
       "      <td>70.0</td>\n",
       "      <td>3.0</td>\n",
       "      <td>3.8918</td>\n",
       "      <td>69</td>\n",
       "      <td>75</td>\n",
       "    </tr>\n",
       "    <tr>\n",
       "      <th>2</th>\n",
       "      <td>72</td>\n",
       "      <td>2</td>\n",
       "      <td>30.5</td>\n",
       "      <td>93.0</td>\n",
       "      <td>156</td>\n",
       "      <td>93.6</td>\n",
       "      <td>41.0</td>\n",
       "      <td>4.0</td>\n",
       "      <td>4.6728</td>\n",
       "      <td>85</td>\n",
       "      <td>141</td>\n",
       "    </tr>\n",
       "    <tr>\n",
       "      <th>3</th>\n",
       "      <td>24</td>\n",
       "      <td>1</td>\n",
       "      <td>25.3</td>\n",
       "      <td>84.0</td>\n",
       "      <td>198</td>\n",
       "      <td>131.4</td>\n",
       "      <td>40.0</td>\n",
       "      <td>5.0</td>\n",
       "      <td>4.8903</td>\n",
       "      <td>89</td>\n",
       "      <td>206</td>\n",
       "    </tr>\n",
       "    <tr>\n",
       "      <th>4</th>\n",
       "      <td>50</td>\n",
       "      <td>1</td>\n",
       "      <td>23.0</td>\n",
       "      <td>101.0</td>\n",
       "      <td>192</td>\n",
       "      <td>125.4</td>\n",
       "      <td>52.0</td>\n",
       "      <td>4.0</td>\n",
       "      <td>4.2905</td>\n",
       "      <td>80</td>\n",
       "      <td>135</td>\n",
       "    </tr>\n",
       "  </tbody>\n",
       "</table>\n",
       "</div>"
      ],
      "text/plain": [
       "   AGE  SEX   BMI     BP   S1     S2    S3   S4      S5  S6    Y\n",
       "0   59    2  32.1  101.0  157   93.2  38.0  4.0  4.8598  87  151\n",
       "1   48    1  21.6   87.0  183  103.2  70.0  3.0  3.8918  69   75\n",
       "2   72    2  30.5   93.0  156   93.6  41.0  4.0  4.6728  85  141\n",
       "3   24    1  25.3   84.0  198  131.4  40.0  5.0  4.8903  89  206\n",
       "4   50    1  23.0  101.0  192  125.4  52.0  4.0  4.2905  80  135"
      ]
     },
     "metadata": {},
     "execution_count": 4
    }
   ],
   "metadata": {}
  },
  {
   "cell_type": "markdown",
   "source": [
    "The sklearn's load_diabetes() dataset is using the same source in this example. The difference is load_diabetes() returns standardized data, while this example works from scratch.\n",
    "\n",
    "#### Dataset feeatures\n",
    "- age: age in years\n",
    "- sex\n",
    "- bmi: body mass index\n",
    "- bp: average blood pressure\n",
    "- s1: tc, T-Cells (a type of white blood cells)\n",
    "- s2: ldl, low-density lipoproteins\n",
    "- s3: hdl, high-density lipoproteins\n",
    "- s4: tch, thyroid stimulating hormone\n",
    "- s5: ltg, lamotrigine\n",
    "- s6: glu, blood sugar level\n",
    "\n",
    "#### Target (Y column)\n",
    "As you can see from the full description below, the dataset aims to predict the quantitative measure of disease progression."
   ],
   "metadata": {}
  },
  {
   "cell_type": "code",
   "execution_count": 5,
   "source": [
    "# View full description\r\n",
    "for line in datasets.load_diabetes()['DESCR'].split('\\n'):\r\n",
    "    print(line)"
   ],
   "outputs": [
    {
     "output_type": "stream",
     "name": "stdout",
     "text": [
      ".. _diabetes_dataset:\n",
      "\n",
      "Diabetes dataset\n",
      "----------------\n",
      "\n",
      "Ten baseline variables, age, sex, body mass index, average blood\n",
      "pressure, and six blood serum measurements were obtained for each of n =\n",
      "442 diabetes patients, as well as the response of interest, a\n",
      "quantitative measure of disease progression one year after baseline.\n",
      "\n",
      "**Data Set Characteristics:**\n",
      "\n",
      "  :Number of Instances: 442\n",
      "\n",
      "  :Number of Attributes: First 10 columns are numeric predictive values\n",
      "\n",
      "  :Target: Column 11 is a quantitative measure of disease progression one year after baseline\n",
      "\n",
      "  :Attribute Information:\n",
      "      - age     age in years\n",
      "      - sex\n",
      "      - bmi     body mass index\n",
      "      - bp      average blood pressure\n",
      "      - s1      tc, T-Cells (a type of white blood cells)\n",
      "      - s2      ldl, low-density lipoproteins\n",
      "      - s3      hdl, high-density lipoproteins\n",
      "      - s4      tch, thyroid stimulating hormone\n",
      "      - s5      ltg, lamotrigine\n",
      "      - s6      glu, blood sugar level\n",
      "\n",
      "Note: Each of these 10 feature variables have been mean centered and scaled by the standard deviation times `n_samples` (i.e. the sum of squares of each column totals 1).\n",
      "\n",
      "Source URL:\n",
      "https://www4.stat.ncsu.edu/~boos/var.select/diabetes.html\n",
      "\n",
      "For more information see:\n",
      "Bradley Efron, Trevor Hastie, Iain Johnstone and Robert Tibshirani (2004) \"Least Angle Regression,\" Annals of Statistics (with discussion), 407-499.\n",
      "(https://web.stanford.edu/~hastie/Papers/LARS/LeastAngle_2002.pdf)\n"
     ]
    }
   ],
   "metadata": {}
  },
  {
   "cell_type": "markdown",
   "source": [
    "## Prepare data"
   ],
   "metadata": {}
  },
  {
   "cell_type": "markdown",
   "source": [
    "Group the age column according to range"
   ],
   "metadata": {}
  },
  {
   "cell_type": "code",
   "execution_count": 6,
   "source": [
    "age = df['AGE']\r\n",
    "print(min(age), max(age))"
   ],
   "outputs": [
    {
     "output_type": "stream",
     "name": "stdout",
     "text": [
      "19 79\n"
     ]
    }
   ],
   "metadata": {}
  },
  {
   "cell_type": "markdown",
   "source": [
    "Let's set the low limit to be 10 and upper limit 80 according to the min and max value of the data.\n",
    "\n",
    "The labels are set according to the age group definition\n",
    "[Source](https://help.healthycities.org/hc/en-us/articles/219556208-How-are-the-different-age-groups-defined-)"
   ],
   "metadata": {}
  },
  {
   "cell_type": "code",
   "execution_count": 7,
   "source": [
    "# Set the bins\r\n",
    "bins = [10, 12, 17, 65, 80]\r\n",
    "age_labels = [\"children\", \"teens\", \"adults\", \"elderly\"]\r\n",
    "\r\n",
    "# perform range encoding\r\n",
    "age = pd.cut(age, bins=bins, labels=age_labels, include_lowest=True)\r\n",
    "age = pd.DataFrame(age)"
   ],
   "outputs": [],
   "metadata": {}
  },
  {
   "cell_type": "code",
   "execution_count": 8,
   "source": [
    "age.head()"
   ],
   "outputs": [
    {
     "output_type": "execute_result",
     "data": {
      "text/html": [
       "<div>\n",
       "<style scoped>\n",
       "    .dataframe tbody tr th:only-of-type {\n",
       "        vertical-align: middle;\n",
       "    }\n",
       "\n",
       "    .dataframe tbody tr th {\n",
       "        vertical-align: top;\n",
       "    }\n",
       "\n",
       "    .dataframe thead th {\n",
       "        text-align: right;\n",
       "    }\n",
       "</style>\n",
       "<table border=\"1\" class=\"dataframe\">\n",
       "  <thead>\n",
       "    <tr style=\"text-align: right;\">\n",
       "      <th></th>\n",
       "      <th>AGE</th>\n",
       "    </tr>\n",
       "  </thead>\n",
       "  <tbody>\n",
       "    <tr>\n",
       "      <th>0</th>\n",
       "      <td>adults</td>\n",
       "    </tr>\n",
       "    <tr>\n",
       "      <th>1</th>\n",
       "      <td>adults</td>\n",
       "    </tr>\n",
       "    <tr>\n",
       "      <th>2</th>\n",
       "      <td>elderly</td>\n",
       "    </tr>\n",
       "    <tr>\n",
       "      <th>3</th>\n",
       "      <td>adults</td>\n",
       "    </tr>\n",
       "    <tr>\n",
       "      <th>4</th>\n",
       "      <td>adults</td>\n",
       "    </tr>\n",
       "  </tbody>\n",
       "</table>\n",
       "</div>"
      ],
      "text/plain": [
       "       AGE\n",
       "0   adults\n",
       "1   adults\n",
       "2  elderly\n",
       "3   adults\n",
       "4   adults"
      ]
     },
     "metadata": {},
     "execution_count": 8
    }
   ],
   "metadata": {}
  },
  {
   "cell_type": "markdown",
   "source": [
    "### One-hot encoding\n",
    "\n",
    "After grouping the age data, perform one-hot encoding."
   ],
   "metadata": {}
  },
  {
   "cell_type": "code",
   "execution_count": 9,
   "source": [
    "age = pd.get_dummies(age)\r\n",
    "\r\n",
    "# use rename() to change the new column name\r\n",
    "gender = pd.get_dummies(df[\"SEX\"]).rename(columns={1:\"gender1\", 2:\"gender2\"})\r\n",
    "\r\n",
    "gender.head()"
   ],
   "outputs": [
    {
     "output_type": "execute_result",
     "data": {
      "text/html": [
       "<div>\n",
       "<style scoped>\n",
       "    .dataframe tbody tr th:only-of-type {\n",
       "        vertical-align: middle;\n",
       "    }\n",
       "\n",
       "    .dataframe tbody tr th {\n",
       "        vertical-align: top;\n",
       "    }\n",
       "\n",
       "    .dataframe thead th {\n",
       "        text-align: right;\n",
       "    }\n",
       "</style>\n",
       "<table border=\"1\" class=\"dataframe\">\n",
       "  <thead>\n",
       "    <tr style=\"text-align: right;\">\n",
       "      <th></th>\n",
       "      <th>gender1</th>\n",
       "      <th>gender2</th>\n",
       "    </tr>\n",
       "  </thead>\n",
       "  <tbody>\n",
       "    <tr>\n",
       "      <th>0</th>\n",
       "      <td>0</td>\n",
       "      <td>1</td>\n",
       "    </tr>\n",
       "    <tr>\n",
       "      <th>1</th>\n",
       "      <td>1</td>\n",
       "      <td>0</td>\n",
       "    </tr>\n",
       "    <tr>\n",
       "      <th>2</th>\n",
       "      <td>0</td>\n",
       "      <td>1</td>\n",
       "    </tr>\n",
       "    <tr>\n",
       "      <th>3</th>\n",
       "      <td>1</td>\n",
       "      <td>0</td>\n",
       "    </tr>\n",
       "    <tr>\n",
       "      <th>4</th>\n",
       "      <td>1</td>\n",
       "      <td>0</td>\n",
       "    </tr>\n",
       "  </tbody>\n",
       "</table>\n",
       "</div>"
      ],
      "text/plain": [
       "   gender1  gender2\n",
       "0        0        1\n",
       "1        1        0\n",
       "2        0        1\n",
       "3        1        0\n",
       "4        1        0"
      ]
     },
     "metadata": {},
     "execution_count": 9
    }
   ],
   "metadata": {}
  },
  {
   "cell_type": "markdown",
   "source": [
    "### Normalize data"
   ],
   "metadata": {}
  },
  {
   "cell_type": "markdown",
   "source": [
    "Use sklearn MinMaxScaler for to normalize data"
   ],
   "metadata": {}
  },
  {
   "cell_type": "code",
   "execution_count": 13,
   "source": [
    "scaler = preprocessing.MinMaxScaler()\r\n",
    "df_to_scale = df.drop([\"AGE\", \"SEX\"],axis=1)\r\n",
    "df_scaled = scaler.fit_transform(df_to_scale)\r\n",
    "\r\n",
    "column_names = [\"BMI\",\"BP\",\"S1\",\"S2\",\"S3\",\"S4\",\"S5\",\"S6\",\"Y\"]\r\n",
    "df_scaled = pd.DataFrame(df_scaled, columns=column_names)"
   ],
   "outputs": [],
   "metadata": {}
  },
  {
   "cell_type": "code",
   "execution_count": 14,
   "source": [
    "df_scaled.head()"
   ],
   "outputs": [
    {
     "output_type": "execute_result",
     "data": {
      "text/html": [
       "<div>\n",
       "<style scoped>\n",
       "    .dataframe tbody tr th:only-of-type {\n",
       "        vertical-align: middle;\n",
       "    }\n",
       "\n",
       "    .dataframe tbody tr th {\n",
       "        vertical-align: top;\n",
       "    }\n",
       "\n",
       "    .dataframe thead th {\n",
       "        text-align: right;\n",
       "    }\n",
       "</style>\n",
       "<table border=\"1\" class=\"dataframe\">\n",
       "  <thead>\n",
       "    <tr style=\"text-align: right;\">\n",
       "      <th></th>\n",
       "      <th>BMI</th>\n",
       "      <th>BP</th>\n",
       "      <th>S1</th>\n",
       "      <th>S2</th>\n",
       "      <th>S3</th>\n",
       "      <th>S4</th>\n",
       "      <th>S5</th>\n",
       "      <th>S6</th>\n",
       "      <th>Y</th>\n",
       "    </tr>\n",
       "  </thead>\n",
       "  <tbody>\n",
       "    <tr>\n",
       "      <th>0</th>\n",
       "      <td>0.582645</td>\n",
       "      <td>0.549296</td>\n",
       "      <td>0.294118</td>\n",
       "      <td>0.256972</td>\n",
       "      <td>0.207792</td>\n",
       "      <td>0.282087</td>\n",
       "      <td>0.562217</td>\n",
       "      <td>0.439394</td>\n",
       "      <td>0.392523</td>\n",
       "    </tr>\n",
       "    <tr>\n",
       "      <th>1</th>\n",
       "      <td>0.148760</td>\n",
       "      <td>0.352113</td>\n",
       "      <td>0.421569</td>\n",
       "      <td>0.306773</td>\n",
       "      <td>0.623377</td>\n",
       "      <td>0.141044</td>\n",
       "      <td>0.222437</td>\n",
       "      <td>0.166667</td>\n",
       "      <td>0.155763</td>\n",
       "    </tr>\n",
       "    <tr>\n",
       "      <th>2</th>\n",
       "      <td>0.516529</td>\n",
       "      <td>0.436620</td>\n",
       "      <td>0.289216</td>\n",
       "      <td>0.258964</td>\n",
       "      <td>0.246753</td>\n",
       "      <td>0.282087</td>\n",
       "      <td>0.496578</td>\n",
       "      <td>0.409091</td>\n",
       "      <td>0.361371</td>\n",
       "    </tr>\n",
       "    <tr>\n",
       "      <th>3</th>\n",
       "      <td>0.301653</td>\n",
       "      <td>0.309859</td>\n",
       "      <td>0.495098</td>\n",
       "      <td>0.447211</td>\n",
       "      <td>0.233766</td>\n",
       "      <td>0.423131</td>\n",
       "      <td>0.572923</td>\n",
       "      <td>0.469697</td>\n",
       "      <td>0.563863</td>\n",
       "    </tr>\n",
       "    <tr>\n",
       "      <th>4</th>\n",
       "      <td>0.206612</td>\n",
       "      <td>0.549296</td>\n",
       "      <td>0.465686</td>\n",
       "      <td>0.417331</td>\n",
       "      <td>0.389610</td>\n",
       "      <td>0.282087</td>\n",
       "      <td>0.362385</td>\n",
       "      <td>0.333333</td>\n",
       "      <td>0.342679</td>\n",
       "    </tr>\n",
       "  </tbody>\n",
       "</table>\n",
       "</div>"
      ],
      "text/plain": [
       "        BMI        BP        S1        S2        S3        S4        S5  \\\n",
       "0  0.582645  0.549296  0.294118  0.256972  0.207792  0.282087  0.562217   \n",
       "1  0.148760  0.352113  0.421569  0.306773  0.623377  0.141044  0.222437   \n",
       "2  0.516529  0.436620  0.289216  0.258964  0.246753  0.282087  0.496578   \n",
       "3  0.301653  0.309859  0.495098  0.447211  0.233766  0.423131  0.572923   \n",
       "4  0.206612  0.549296  0.465686  0.417331  0.389610  0.282087  0.362385   \n",
       "\n",
       "         S6         Y  \n",
       "0  0.439394  0.392523  \n",
       "1  0.166667  0.155763  \n",
       "2  0.409091  0.361371  \n",
       "3  0.469697  0.563863  \n",
       "4  0.333333  0.342679  "
      ]
     },
     "metadata": {},
     "execution_count": 14
    }
   ],
   "metadata": {}
  },
  {
   "cell_type": "markdown",
   "source": [
    "### Combine all data"
   ],
   "metadata": {}
  },
  {
   "cell_type": "code",
   "execution_count": 15,
   "source": [
    "df = pd.concat([age, gender, df_scaled], axis=1)"
   ],
   "outputs": [],
   "metadata": {}
  },
  {
   "cell_type": "code",
   "execution_count": 16,
   "source": [
    "df.head()"
   ],
   "outputs": [
    {
     "output_type": "execute_result",
     "data": {
      "text/html": [
       "<div>\n",
       "<style scoped>\n",
       "    .dataframe tbody tr th:only-of-type {\n",
       "        vertical-align: middle;\n",
       "    }\n",
       "\n",
       "    .dataframe tbody tr th {\n",
       "        vertical-align: top;\n",
       "    }\n",
       "\n",
       "    .dataframe thead th {\n",
       "        text-align: right;\n",
       "    }\n",
       "</style>\n",
       "<table border=\"1\" class=\"dataframe\">\n",
       "  <thead>\n",
       "    <tr style=\"text-align: right;\">\n",
       "      <th></th>\n",
       "      <th>AGE_children</th>\n",
       "      <th>AGE_teens</th>\n",
       "      <th>AGE_adults</th>\n",
       "      <th>AGE_elderly</th>\n",
       "      <th>gender1</th>\n",
       "      <th>gender2</th>\n",
       "      <th>BMI</th>\n",
       "      <th>BP</th>\n",
       "      <th>S1</th>\n",
       "      <th>S2</th>\n",
       "      <th>S3</th>\n",
       "      <th>S4</th>\n",
       "      <th>S5</th>\n",
       "      <th>S6</th>\n",
       "      <th>Y</th>\n",
       "    </tr>\n",
       "  </thead>\n",
       "  <tbody>\n",
       "    <tr>\n",
       "      <th>0</th>\n",
       "      <td>0</td>\n",
       "      <td>0</td>\n",
       "      <td>1</td>\n",
       "      <td>0</td>\n",
       "      <td>0</td>\n",
       "      <td>1</td>\n",
       "      <td>0.582645</td>\n",
       "      <td>0.549296</td>\n",
       "      <td>0.294118</td>\n",
       "      <td>0.256972</td>\n",
       "      <td>0.207792</td>\n",
       "      <td>0.282087</td>\n",
       "      <td>0.562217</td>\n",
       "      <td>0.439394</td>\n",
       "      <td>0.392523</td>\n",
       "    </tr>\n",
       "    <tr>\n",
       "      <th>1</th>\n",
       "      <td>0</td>\n",
       "      <td>0</td>\n",
       "      <td>1</td>\n",
       "      <td>0</td>\n",
       "      <td>1</td>\n",
       "      <td>0</td>\n",
       "      <td>0.148760</td>\n",
       "      <td>0.352113</td>\n",
       "      <td>0.421569</td>\n",
       "      <td>0.306773</td>\n",
       "      <td>0.623377</td>\n",
       "      <td>0.141044</td>\n",
       "      <td>0.222437</td>\n",
       "      <td>0.166667</td>\n",
       "      <td>0.155763</td>\n",
       "    </tr>\n",
       "    <tr>\n",
       "      <th>2</th>\n",
       "      <td>0</td>\n",
       "      <td>0</td>\n",
       "      <td>0</td>\n",
       "      <td>1</td>\n",
       "      <td>0</td>\n",
       "      <td>1</td>\n",
       "      <td>0.516529</td>\n",
       "      <td>0.436620</td>\n",
       "      <td>0.289216</td>\n",
       "      <td>0.258964</td>\n",
       "      <td>0.246753</td>\n",
       "      <td>0.282087</td>\n",
       "      <td>0.496578</td>\n",
       "      <td>0.409091</td>\n",
       "      <td>0.361371</td>\n",
       "    </tr>\n",
       "    <tr>\n",
       "      <th>3</th>\n",
       "      <td>0</td>\n",
       "      <td>0</td>\n",
       "      <td>1</td>\n",
       "      <td>0</td>\n",
       "      <td>1</td>\n",
       "      <td>0</td>\n",
       "      <td>0.301653</td>\n",
       "      <td>0.309859</td>\n",
       "      <td>0.495098</td>\n",
       "      <td>0.447211</td>\n",
       "      <td>0.233766</td>\n",
       "      <td>0.423131</td>\n",
       "      <td>0.572923</td>\n",
       "      <td>0.469697</td>\n",
       "      <td>0.563863</td>\n",
       "    </tr>\n",
       "    <tr>\n",
       "      <th>4</th>\n",
       "      <td>0</td>\n",
       "      <td>0</td>\n",
       "      <td>1</td>\n",
       "      <td>0</td>\n",
       "      <td>1</td>\n",
       "      <td>0</td>\n",
       "      <td>0.206612</td>\n",
       "      <td>0.549296</td>\n",
       "      <td>0.465686</td>\n",
       "      <td>0.417331</td>\n",
       "      <td>0.389610</td>\n",
       "      <td>0.282087</td>\n",
       "      <td>0.362385</td>\n",
       "      <td>0.333333</td>\n",
       "      <td>0.342679</td>\n",
       "    </tr>\n",
       "  </tbody>\n",
       "</table>\n",
       "</div>"
      ],
      "text/plain": [
       "   AGE_children  AGE_teens  AGE_adults  AGE_elderly  gender1  gender2  \\\n",
       "0             0          0           1            0        0        1   \n",
       "1             0          0           1            0        1        0   \n",
       "2             0          0           0            1        0        1   \n",
       "3             0          0           1            0        1        0   \n",
       "4             0          0           1            0        1        0   \n",
       "\n",
       "        BMI        BP        S1        S2        S3        S4        S5  \\\n",
       "0  0.582645  0.549296  0.294118  0.256972  0.207792  0.282087  0.562217   \n",
       "1  0.148760  0.352113  0.421569  0.306773  0.623377  0.141044  0.222437   \n",
       "2  0.516529  0.436620  0.289216  0.258964  0.246753  0.282087  0.496578   \n",
       "3  0.301653  0.309859  0.495098  0.447211  0.233766  0.423131  0.572923   \n",
       "4  0.206612  0.549296  0.465686  0.417331  0.389610  0.282087  0.362385   \n",
       "\n",
       "         S6         Y  \n",
       "0  0.439394  0.392523  \n",
       "1  0.166667  0.155763  \n",
       "2  0.409091  0.361371  \n",
       "3  0.469697  0.563863  \n",
       "4  0.333333  0.342679  "
      ]
     },
     "metadata": {},
     "execution_count": 16
    }
   ],
   "metadata": {}
  },
  {
   "cell_type": "markdown",
   "source": [
    "## Summary of Data Preparation\n",
    "- Change continuous variable to ordinal variable\n",
    "\n",
    "We convert age into age groups and give them labels\n",
    "\n",
    "- One-hot encoding\n",
    "\n",
    "Both age and gender are converted to one-hot encoding. \n",
    "\n",
    "- Normalize data\n",
    "\n",
    "Other data are scaled using the sklearn min-max algorithm which normalizes according to the minimum and maximum data\n",
    "\n",
    "Now, the data is ready for training"
   ],
   "metadata": {}
  },
  {
   "cell_type": "code",
   "execution_count": 17,
   "source": [
    "# Split data and target\r\n",
    "data = df.drop([\"Y\"], axis=1)\r\n",
    "target = df[\"Y\"]"
   ],
   "outputs": [],
   "metadata": {}
  },
  {
   "cell_type": "code",
   "execution_count": 18,
   "source": [
    "data = data.astype(dtype=np.float32)\r\n",
    "target = target.astype(dtype=np.float32)"
   ],
   "outputs": [],
   "metadata": {}
  },
  {
   "cell_type": "code",
   "execution_count": 19,
   "source": [
    "X_train, X_test, y_train, y_test = train_test_split(data, target, test_size=0.3, random_state=123)"
   ],
   "outputs": [],
   "metadata": {}
  },
  {
   "cell_type": "markdown",
   "source": [
    "## Train model"
   ],
   "metadata": {}
  },
  {
   "cell_type": "code",
   "execution_count": 20,
   "source": [
    "model = LinearRegression()"
   ],
   "outputs": [],
   "metadata": {}
  },
  {
   "cell_type": "markdown",
   "source": [
    "perform training"
   ],
   "metadata": {}
  },
  {
   "cell_type": "code",
   "execution_count": 21,
   "source": [
    "model.fit(X_train, y_train)"
   ],
   "outputs": [
    {
     "output_type": "execute_result",
     "data": {
      "text/plain": [
       "LinearRegression()"
      ]
     },
     "metadata": {},
     "execution_count": 21
    }
   ],
   "metadata": {}
  },
  {
   "cell_type": "markdown",
   "source": [
    "## Evaluate"
   ],
   "metadata": {}
  },
  {
   "cell_type": "markdown",
   "source": [
    "### Train Error\n",
    "Evaluate model using train data"
   ],
   "metadata": {}
  },
  {
   "cell_type": "code",
   "execution_count": 22,
   "source": [
    "predictions = model.predict(X_train)"
   ],
   "outputs": [],
   "metadata": {}
  },
  {
   "cell_type": "code",
   "execution_count": 23,
   "source": [
    "print('MAE:', metrics.mean_absolute_error(y_train, predictions))\r\n",
    "print('MSE:', metrics.mean_squared_error(y_train, predictions))\r\n",
    "print('RMSE:', np.sqrt(metrics.mean_squared_error(y_train, predictions)))"
   ],
   "outputs": [
    {
     "output_type": "stream",
     "name": "stdout",
     "text": [
      "MAE: 0.13500275\n",
      "MSE: 0.028243722\n",
      "RMSE: 0.1680587\n"
     ]
    }
   ],
   "metadata": {}
  },
  {
   "cell_type": "markdown",
   "source": [
    "### Test Error\n",
    "Evaluate model using test data"
   ],
   "metadata": {}
  },
  {
   "cell_type": "code",
   "execution_count": 24,
   "source": [
    "predictions = model.predict(X_test)"
   ],
   "outputs": [],
   "metadata": {}
  },
  {
   "cell_type": "code",
   "execution_count": 25,
   "source": [
    "print('MAE:', metrics.mean_absolute_error(y_test, predictions))\r\n",
    "print('MSE:', metrics.mean_squared_error(y_test, predictions))\r\n",
    "print('RMSE:', np.sqrt(metrics.mean_squared_error(y_test, predictions)))"
   ],
   "outputs": [
    {
     "output_type": "stream",
     "name": "stdout",
     "text": [
      "MAE: 0.14419702\n",
      "MSE: 0.02988862\n",
      "RMSE: 0.17288326\n"
     ]
    }
   ],
   "metadata": {}
  },
  {
   "cell_type": "markdown",
   "source": [
    "# Model evaluation\n",
    "Evaluation is done to monitor the performance of the trained model. The performance shows how well the model learns the data. \n",
    "\n",
    "There are three conditions to monitor\n",
    "\n",
    "### Underfitting\n",
    "In this condition, the model has not learned enough about training data. A simple example is using a straight line to model non-linear data. The line will not be able to describe the data.\n",
    "\n",
    "In the case of regression, underfitting is when the training and testing errors are large.\n",
    "\n",
    "### Overfitting\n",
    "In this condition, the model has learned too much training data, which consists of good data and noise. In other words, the model \"memorise\" the data. This condition is undesirable as noise is not what we want the model to learn. It will perform well on training data but not unseen data.\n",
    "\n",
    "In the case of regression, overfitting is when the training error is very low, and the test error is large.\n",
    "\n",
    "### Generalize well\n",
    "This is the desired condition for a model. It shows that the model can learn the training data and perform good predictions for the testing data.\n",
    "\n",
    "__In this example, both training and testing errors are low, which shows that the model generalizes the data well.__"
   ],
   "metadata": {}
  }
 ],
 "metadata": {
  "kernelspec": {
   "name": "python3",
   "display_name": "Python 3.9.0 64-bit"
  },
  "language_info": {
   "codemirror_mode": {
    "name": "ipython",
    "version": 3
   },
   "file_extension": ".py",
   "mimetype": "text/x-python",
   "name": "python",
   "nbconvert_exporter": "python",
   "pygments_lexer": "ipython3",
   "version": "3.9.0"
  },
  "interpreter": {
   "hash": "63fd5069d213b44bf678585dea6b12cceca9941eaf7f819626cde1f2670de90d"
  }
 },
 "nbformat": 4,
 "nbformat_minor": 4
}